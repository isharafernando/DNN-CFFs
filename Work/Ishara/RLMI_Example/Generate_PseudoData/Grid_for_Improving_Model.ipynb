{
 "cells": [
  {
   "cell_type": "code",
   "execution_count": 1,
   "metadata": {},
   "outputs": [],
   "source": [
    "import pandas as pd\n",
    "import numpy as np\n",
    "\n",
    "# Set constant values\n",
    "k = 2.5\n",
    "QQ = 1\n",
    "bin_count = 10\n",
    "\n",
    "# Generate values for x, t, and phi\n",
    "x_values = np.linspace(0.24, 0.5, bin_count)\n",
    "t_values = np.linspace(-1.0, -0.28, bin_count)\n",
    "phi_values = np.arange(0, 181, 15)\n",
    "\n",
    "# Create a list to store data\n",
    "data = []\n",
    "\n",
    "# Generate data for each combination of x, t, and phi\n",
    "for x in x_values:\n",
    "    for t in t_values:\n",
    "        for phi in phi_values:\n",
    "            data.append([k, QQ, x, t, phi])\n",
    "\n",
    "# Create a DataFrame\n",
    "columns = ['k', 'QQ', 'x_b', 't', 'phi_x']\n",
    "df = pd.DataFrame(data, columns=columns)\n",
    "\n",
    "# Save DataFrame to a .csv file\n",
    "df.to_csv('grid_data.csv', index=False)"
   ]
  },
  {
   "cell_type": "code",
   "execution_count": null,
   "metadata": {},
   "outputs": [],
   "source": []
  }
 ],
 "metadata": {
  "kernelspec": {
   "display_name": "Python 3",
   "language": "python",
   "name": "python3"
  },
  "language_info": {
   "codemirror_mode": {
    "name": "ipython",
    "version": 3
   },
   "file_extension": ".py",
   "mimetype": "text/x-python",
   "name": "python",
   "nbconvert_exporter": "python",
   "pygments_lexer": "ipython3",
   "version": "3.8.10"
  }
 },
 "nbformat": 4,
 "nbformat_minor": 4
}
